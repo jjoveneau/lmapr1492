{
 "cells": [
  {
   "cell_type": "markdown",
   "id": "awful-carpet",
   "metadata": {},
   "source": [
    "Julia Joveneau - 42611800\n",
    "\n",
    "LMAPR1492\n",
    "\n",
    "March 1, 2021"
   ]
  },
  {
   "cell_type": "code",
   "execution_count": 40,
   "id": "floating-breast",
   "metadata": {},
   "outputs": [],
   "source": [
    "from pymatgen.ext.matproj import MPRester\n",
    "from jupyter_jsmol.pymatgen import quick_view\n",
    "from pymatgen.io.cif import CifWriter\n",
    "from pymatgen.io.cif import CifParser\n",
    "from pymatgen.symmetry.analyzer import SpacegroupAnalyzer"
   ]
  },
  {
   "cell_type": "code",
   "execution_count": 25,
   "id": "recent-persian",
   "metadata": {},
   "outputs": [],
   "source": [
    "with MPRester(\"0xKCQrLrxyfoPKG3N\") as m:\n",
    "\n",
    "    # Structure for material id\n",
    "    structure = m.get_structure_by_material_id(\"mp-7477\")\n",
    "\n",
    "    # Dos for material id\n",
    "    dos = m.get_dos_by_material_id(\"mp-7477\")\n",
    "\n",
    "    # Bandstructure for material id\n",
    "    bandstructure = m.get_bandstructure_by_material_id(\"mp-7477\")\n"
   ]
  },
  {
   "cell_type": "code",
   "execution_count": 39,
   "id": "seventh-grove",
   "metadata": {},
   "outputs": [
    {
     "name": "stdout",
     "output_type": "stream",
     "text": [
      "Lattice vectors a, b, c, are respectively of lengths 6.8488503632049085, 6.8488503632049085, 6.84885067559879, \n",
      "with corresponding angles 29.384711344980605°, 29.384711344980605°, 29.384705802375414°.\n",
      "Reciprocal lattice vectors a*, b*, c*, are respectively of lengths 2.1126964384966973, 2.1126964384966973, 2.112695979196993, \n",
      "with corresponding angles 117.75066776916593°, 117.75066776916593°, 117.75068647648833°.\n",
      "Lattice type : rhombohedral\n",
      "Crystal system : trigonal\n",
      "Point group : -3m\n"
     ]
    }
   ],
   "source": [
    "lattice = structure.lattice\n",
    "reciprocal_lattice = lattice.reciprocal_lattice\n",
    "lgth = lattice.lengths\n",
    "agl = lattice.angles\n",
    "rec_lgth = reciprocal_lattice.lengths\n",
    "rec_agl = reciprocal_lattice.angles\n",
    "print(\"Lattice vectors a, b, c, are respectively of lengths {}, {}, {}, \\nwith corresponding angles {}°, {}°, {}°.\".format(lgth[0], lgth[1], lgth[2], agl[0],agl[1],agl[2]))\n",
    "print(\"Reciprocal lattice vectors a*, b*, c*, are respectively of lengths {}, {}, {}, \\nwith corresponding angles {}°, {}°, {}°.\".format(rec_lgth[0], rec_lgth[1], rec_lgth[2], rec_agl[0],rec_agl[1],rec_agl[2]))\n",
    "\n",
    "analyzer = SpacegroupAnalyzer(structure)\n",
    "\n",
    "print(\"Lattice type : {}\".format(analyzer.get_lattice_type()))\n",
    "print(\"Crystal system : {}\".format(analyzer.get_crystal_system()))\n",
    "print(\"Point group : {}\".format(analyzer.get_point_group_symbol()))\n"
   ]
  },
  {
   "cell_type": "code",
   "execution_count": null,
   "id": "technical-mississippi",
   "metadata": {},
   "outputs": [],
   "source": [
    "file = CifWriter(structure)\n",
    "file.write_file(\"download.cif\")"
   ]
  }
 ],
 "metadata": {
  "kernelspec": {
   "display_name": "Python 3",
   "language": "python",
   "name": "python3"
  },
  "language_info": {
   "codemirror_mode": {
    "name": "ipython",
    "version": 3
   },
   "file_extension": ".py",
   "mimetype": "text/x-python",
   "name": "python",
   "nbconvert_exporter": "python",
   "pygments_lexer": "ipython3",
   "version": "3.6.8"
  }
 },
 "nbformat": 4,
 "nbformat_minor": 5
}
