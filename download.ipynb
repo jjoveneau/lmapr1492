{
 "cells": [
  {
   "cell_type": "markdown",
   "id": "accurate-pattern",
   "metadata": {},
   "source": [
    "LMAPR1492 \n",
    "\n",
    "Julia Joveneau"
   ]
  },
  {
   "cell_type": "code",
   "execution_count": 9,
   "id": "running-pursuit",
   "metadata": {},
   "outputs": [],
   "source": [
    "from pymatgen.ext.matproj import MPRester\n",
    "from jupyter_jsmol.pymatgen import quick_view\n",
    "from pymatgen.io.cif import CifWriter"
   ]
  },
  {
   "cell_type": "code",
   "execution_count": 10,
   "id": "apparent-survivor",
   "metadata": {},
   "outputs": [],
   "source": [
    "with MPRester(\"0xKCQrLrxyfoPKG3N\") as m:\n",
    "\n",
    "    # Structure for material id\n",
    "    structure = m.get_structure_by_material_id(\"mp-7477\")\n",
    "\n",
    "    # Dos for material id\n",
    "    dos = m.get_dos_by_material_id(\"mp-7477\")\n",
    "\n",
    "    # Bandstructure for material id\n",
    "    bandstructure = m.get_bandstructure_by_material_id(\"mp-7477\")"
   ]
  },
  {
   "cell_type": "code",
   "execution_count": 11,
   "id": "prostate-assault",
   "metadata": {},
   "outputs": [
    {
     "data": {
      "application/vnd.jupyter.widget-view+json": {
       "model_id": "81b38e812bc6458f9da7e029328d474c",
       "version_major": 2,
       "version_minor": 0
      },
      "text/plain": [
       "JsmolView(layout=Layout(align_self='stretch', height='400px'))"
      ]
     },
     "metadata": {},
     "output_type": "display_data"
    }
   ],
   "source": [
    "view = quick_view(structure, \"packed\")\n",
    "display(view)"
   ]
  },
  {
   "cell_type": "code",
   "execution_count": 13,
   "id": "molecular-today",
   "metadata": {},
   "outputs": [],
   "source": [
    "file = CifWriter(structure)\n",
    "file.write_file(\"download.cif\")"
   ]
  },
  {
   "cell_type": "code",
   "execution_count": null,
   "id": "martial-batman",
   "metadata": {},
   "outputs": [],
   "source": []
  }
 ],
 "metadata": {
  "kernelspec": {
   "display_name": "Python 3",
   "language": "python",
   "name": "python3"
  },
  "language_info": {
   "codemirror_mode": {
    "name": "ipython",
    "version": 3
   },
   "file_extension": ".py",
   "mimetype": "text/x-python",
   "name": "python",
   "nbconvert_exporter": "python",
   "pygments_lexer": "ipython3",
   "version": "3.6.8"
  }
 },
 "nbformat": 4,
 "nbformat_minor": 5
}
